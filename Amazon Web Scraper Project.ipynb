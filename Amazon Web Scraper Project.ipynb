{
 "cells": [
  {
   "cell_type": "markdown",
   "id": "deaebff4",
   "metadata": {},
   "source": [
    "## Amazon Web Scraping"
   ]
  },
  {
   "cell_type": "code",
   "execution_count": 4,
   "id": "fad7c629",
   "metadata": {},
   "outputs": [],
   "source": [
    "# import libraries\n",
    "\n",
    "from bs4 import BeautifulSoup\n",
    "import requests\n",
    "import time\n",
    "import datetime\n",
    "\n",
    "import smtplib"
   ]
  },
  {
   "cell_type": "code",
   "execution_count": 5,
   "id": "d63ac31b",
   "metadata": {
    "scrolled": true
   },
   "outputs": [
    {
     "name": "stdout",
     "output_type": "stream",
     "text": [
      "\n",
      "                Funny Got Data MIS Data Systems Business Analyst T-Shirt\n",
      "               \n",
      "\n",
      "\n",
      "\n",
      "\n",
      "\n",
      "                    4.9 out of 5 stars\n",
      "                   \n",
      "\n",
      "\n",
      "\n",
      "\n",
      "\n",
      "\n",
      "\n",
      "\n"
     ]
    }
   ],
   "source": [
    "# Connecting to website and pulling in data\n",
    "\n",
    "URL = 'https://www.amazon.com/Funny-Data-Systems-Business-Analyst/dp/B07FNW9FGJ/ref=sr_1_3?dchild=1&keywords=data%2Banalyst%2Btshirt&qid=1626655184&sr=8-3&customId=B0752XJYNL&th=1'\n",
    "headers = {\"User-Agent\": \"Mozilla/5.0 (Windows NT 10.0; Win64; x64) AppleWebKit/537.36 (KHTML, like Gecko) Chrome/111.0.0.0 Safari/537.36\", \"Accept-Encoding\":\"gzip, deflate\", \"Accept\":\"text/html,application/xhtml+xml,application/xml;q=0.9,*/*;q=0.8\", \"DNT\":\"1\",\"Connection\":\"close\", \"Upgrade-Insecure-Requests\":\"1\"}\n",
    "page = requests.get(URL, headers = headers)\n",
    "soup1 = BeautifulSoup(page.content, \"html.parser\")\n",
    "soup2 = BeautifulSoup(soup1.prettify(), \"html.parser\")\n",
    "title = soup2.find(id = \"productTitle\").get_text()\n",
    "raitings = soup2.find(id = \"acrPopover\").get_text()\n",
    "\n",
    "print(title)\n",
    "print(raitings)"
   ]
  },
  {
   "cell_type": "code",
   "execution_count": 9,
   "id": "02691ffb",
   "metadata": {},
   "outputs": [
    {
     "name": "stdout",
     "output_type": "stream",
     "text": [
      "Funny Got Data MIS Data Systems Business Analyst T-Shirt\n",
      "4.9 out of 5 stars\n"
     ]
    }
   ],
   "source": [
    "# Cleaning up the data \n",
    "\n",
    "raitings = raitings.strip()\n",
    "title = title.strip()\n",
    "\n",
    "print(title)\n",
    "print(raitings)\n"
   ]
  },
  {
   "cell_type": "code",
   "execution_count": 10,
   "id": "d94b4230",
   "metadata": {},
   "outputs": [
    {
     "name": "stdout",
     "output_type": "stream",
     "text": [
      "2023-03-15\n"
     ]
    }
   ],
   "source": [
    "# Creating a Timestamp for the output to track when data was collected\n",
    "\n",
    "import datetime\n",
    "\n",
    "today = datetime.date.today()\n",
    "\n",
    "print(today)"
   ]
  },
  {
   "cell_type": "code",
   "execution_count": 11,
   "id": "48d1a3cb",
   "metadata": {},
   "outputs": [],
   "source": [
    "# Creating CSV and writing headers and data into the file\n",
    "\n",
    "import csv\n",
    "\n",
    "header = [\"Title\", \"Raitings\", \"Date\"]\n",
    "data = [title, raitings, today]\n",
    "\n",
    "#with open(\"AmazonWebScraperDataset.csv\", \"w\", newline = \"\", encoding = \"UTF8\") as f:\n",
    "    #writer = csv.writer(f)\n",
    "    #writer.writerow(header)\n",
    "    #writer.writerow(data)\n",
    "\n"
   ]
  },
  {
   "cell_type": "code",
   "execution_count": 18,
   "id": "3b1614f9",
   "metadata": {},
   "outputs": [
    {
     "name": "stdout",
     "output_type": "stream",
     "text": [
      "                                               Title            Raitings  \\\n",
      "0  Funny Got Data MIS Data Systems Business Analy...  4.9 out of 5 stars   \n",
      "1  Funny Got Data MIS Data Systems Business Analy...  4.9 out of 5 stars   \n",
      "2  Funny Got Data MIS Data Systems Business Analy...  4.9 out of 5 stars   \n",
      "3  Funny Got Data MIS Data Systems Business Analy...  4.9 out of 5 stars   \n",
      "4  Funny Got Data MIS Data Systems Business Analy...  4.9 out of 5 stars   \n",
      "5  Funny Got Data MIS Data Systems Business Analy...  4.9 out of 5 stars   \n",
      "\n",
      "         Date  \n",
      "0  2023-03-15  \n",
      "1  2023-03-15  \n",
      "2  2023-03-15  \n",
      "3  2023-03-15  \n",
      "4  2023-03-15  \n",
      "5  2023-03-15  \n"
     ]
    }
   ],
   "source": [
    "import pandas as pd\n",
    "\n",
    "df = pd.read_csv(r\"C:\\Users\\iness\\AmazonWebScraperDataset.csv\")\n",
    "print(df)"
   ]
  },
  {
   "cell_type": "code",
   "execution_count": 17,
   "id": "71251def",
   "metadata": {},
   "outputs": [],
   "source": [
    "# Now we are appending data to the csv\n",
    "\n",
    "with open(\"AmazonWebScraperDataset.csv\", \"a+\", newline = \"\", encoding = \"UTF8\") as f:\n",
    "    writer = csv.writer(f)\n",
    "    writer.writerow(data)"
   ]
  },
  {
   "cell_type": "code",
   "execution_count": 19,
   "id": "b5ccbb5f",
   "metadata": {},
   "outputs": [],
   "source": [
    "#Combining all of the above code into one function\n",
    "\n",
    "def check_raitings():\n",
    "    URL = 'https://www.amazon.com/Funny-Data-Systems-Business-Analyst/dp/B07FNW9FGJ/ref=sr_1_3?dchild=1&keywords=data%2Banalyst%2Btshirt&qid=1626655184&sr=8-3&customId=B0752XJYNL&th=1'\n",
    "    headers = {\"User-Agent\": \"Mozilla/5.0 (Windows NT 10.0; Win64; x64) AppleWebKit/537.36 (KHTML, like Gecko) Chrome/111.0.0.0 Safari/537.36\", \"Accept-Encoding\":\"gzip, deflate\", \"Accept\":\"text/html,application/xhtml+xml,application/xml;q=0.9,*/*;q=0.8\", \"DNT\":\"1\",\"Connection\":\"close\", \"Upgrade-Insecure-Requests\":\"1\"}\n",
    "    page = requests.get(URL, headers = headers)\n",
    "    soup1 = BeautifulSoup(page.content, \"html.parser\")\n",
    "    soup2 = BeautifulSoup(soup1.prettify(), \"html.parser\")\n",
    "    title = soup2.find(id = \"productTitle\").get_text()\n",
    "    raitings = soup2.find(id = \"acrPopover\").get_text()\n",
    "\n",
    "    raitings = raitings.strip()\n",
    "    title = title.strip()\n",
    "\n",
    "    import datetime\n",
    "\n",
    "    today = datetime.date.today()\n",
    "    print(today)\n",
    "\n",
    "    import csv\n",
    "\n",
    "    header = [\"Title\", \"Raitings\", \"Date\"]\n",
    "    data = [title, raitings, today]\n",
    "\n",
    "    with open(\"AmazonWebScraperDataset.csv\", \"a+\", newline = \"\", encoding = \"UTF8\") as f:\n",
    "        writer = csv.writer(f)\n",
    "        writer.writerow(data)"
   ]
  },
  {
   "cell_type": "code",
   "execution_count": null,
   "id": "e9a888cd",
   "metadata": {},
   "outputs": [
    {
     "name": "stdout",
     "output_type": "stream",
     "text": [
      "2023-03-15\n"
     ]
    }
   ],
   "source": [
    "# Runs check_raitings after a set time and inputs data into your CSV\n",
    "\n",
    "while(True):\n",
    "    check_raitings()\n",
    "    time.sleep(86400)"
   ]
  },
  {
   "cell_type": "code",
   "execution_count": null,
   "id": "5fde23ed",
   "metadata": {},
   "outputs": [],
   "source": [
    "import pandas as pd\n",
    "\n",
    "df = pd.read_csv(r\"C:\\Users\\iness\\AmazonWebScraperDataset.csv\")\n",
    "print(df)"
   ]
  },
  {
   "cell_type": "code",
   "execution_count": null,
   "id": "6fb1b353",
   "metadata": {},
   "outputs": [],
   "source": []
  },
  {
   "cell_type": "code",
   "execution_count": null,
   "id": "4a97795c",
   "metadata": {},
   "outputs": [],
   "source": []
  }
 ],
 "metadata": {
  "kernelspec": {
   "display_name": "Python 3 (ipykernel)",
   "language": "python",
   "name": "python3"
  },
  "language_info": {
   "codemirror_mode": {
    "name": "ipython",
    "version": 3
   },
   "file_extension": ".py",
   "mimetype": "text/x-python",
   "name": "python",
   "nbconvert_exporter": "python",
   "pygments_lexer": "ipython3",
   "version": "3.9.12"
  }
 },
 "nbformat": 4,
 "nbformat_minor": 5
}
